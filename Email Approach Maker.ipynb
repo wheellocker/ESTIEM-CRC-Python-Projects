{
 "cells": [
  {
   "cell_type": "code",
   "execution_count": 1,
   "id": "5ab9b51a",
   "metadata": {},
   "outputs": [],
   "source": [
    "from docx import Document\n",
    "import docx_writer as dw"
   ]
  },
  {
   "cell_type": "markdown",
   "id": "2604d718",
   "metadata": {},
   "source": [
    "This notebook helps you to easily and reliably adapt the ESTIEM CRC Sales email template.\n",
    "Just run all cells, one after the other."
   ]
  },
  {
   "cell_type": "code",
   "execution_count": 2,
   "id": "0fa5483a",
   "metadata": {},
   "outputs": [
    {
     "name": "stdout",
     "output_type": "stream",
     "text": [
      "Welcome, \n",
      "Please enter your name. (no whitespaces)\n",
      "Philipp\n",
      "\n",
      "Your name is \"Philipp\"\n",
      "\n",
      "Please enter the company's name.\n",
      "KPMG\n",
      "\n",
      "The company is \"KPMG\"\n",
      "\n",
      "Do you know the addressee? (y/n)\n",
      "n\n",
      "\n",
      "The salutation is \n",
      "\"Greetings, \"\n",
      "\n",
      "\n",
      "Do you have reasons for the company to work with ESTIEM? (y/n)\n",
      "Our members would also like to know about the work culture at KPMG and the benefits of working in consulting. Your recruiting process and potential career paths for IEM students are highly interesting to us as well. \n",
      "\n",
      "Please enter the reasons.\n",
      "Our members would also like to know about the work culture at KPMG and the benefits of working in consulting. Your recruiting process and potential career paths for IEM students are highly interesting to us as well. \n",
      "\n",
      "The reasons for the company to work with ESTIEM are: \n",
      "\"Our members would also like to know about the work culture at KPMG and the benefits of working in consulting. Your recruiting process and potential career paths for IEM students are highly interesting to us as well. \"\n"
     ]
    }
   ],
   "source": [
    "print('Welcome, \\nPlease enter your name. (no whitespaces)')\n",
    "sender = input()\n",
    "print('\\nYour name is \\\"' + sender + '\\\"')\n",
    "\n",
    "print('\\nPlease enter the company\\'s name.')\n",
    "company_name = input()\n",
    "print('\\nThe company is \\\"' + company_name + '\\\"')\n",
    "\n",
    "print('\\nDo you know the addressee? (y/n)')\n",
    "if 'y' in input():\n",
    "    greeting = 'Dear '\n",
    "    print('\\nAre thyey a woman? (y/n)')\n",
    "    if 'y' in input():\n",
    "        greeting += 'Ms. '\n",
    "    else:\n",
    "        greeting += 'Mr. '\n",
    "    print('\\nPlease enter their last name.')\n",
    "    greeting += input()\n",
    "    greeting += ', '\n",
    "else:\n",
    "    greeting = 'Greetings, '\n",
    "print('\\nThe salutation is \\n\\\"' + greeting + '\\\"\\n')\n",
    "\n",
    "print('\\nDo you have reasons for the company to work with ESTIEM? (y/n)')\n",
    "\n",
    "if 'y' in input():\n",
    "    print('\\nPlease enter the reasons.')\n",
    "    extra_reasons = input()\n",
    "else:\n",
    "    print('\\nYou should try to come up with some.')\n",
    "print('\\nThe reasons for the company to work with ESTIEM are: \\n\\\"' + extra_reasons + '\\\"')"
   ]
  },
  {
   "cell_type": "code",
   "execution_count": 3,
   "id": "7f29b55e",
   "metadata": {},
   "outputs": [],
   "source": [
    "#greeting = ''\n",
    "#sender = ''\n",
    "#company_name = ''\n",
    "#extra_reasons = ''\n",
    "\n",
    "dw.create_email(greeting,sender,company_name,extra_reasons)"
   ]
  },
  {
   "cell_type": "code",
   "execution_count": null,
   "id": "fc09f13e",
   "metadata": {},
   "outputs": [],
   "source": []
  }
 ],
 "metadata": {
  "kernelspec": {
   "display_name": "Python 3 (ipykernel)",
   "language": "python",
   "name": "python3"
  },
  "language_info": {
   "codemirror_mode": {
    "name": "ipython",
    "version": 3
   },
   "file_extension": ".py",
   "mimetype": "text/x-python",
   "name": "python",
   "nbconvert_exporter": "python",
   "pygments_lexer": "ipython3",
   "version": "3.9.12"
  }
 },
 "nbformat": 4,
 "nbformat_minor": 5
}
