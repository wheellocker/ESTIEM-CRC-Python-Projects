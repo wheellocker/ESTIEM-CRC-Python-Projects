{
 "cells": [
  {
   "cell_type": "code",
   "execution_count": 3,
   "id": "890e4fcf",
   "metadata": {},
   "outputs": [],
   "source": [
    "from docx import Document\n",
    "import docx_writer as dw"
   ]
  },
  {
   "cell_type": "markdown",
   "id": "227b440c",
   "metadata": {},
   "source": [
    "This notebook helps you to easily and reliably adapt the ESTIEM CRC LinkedIn message template.\n",
    "Just run all cells, one after the other."
   ]
  },
  {
   "cell_type": "code",
   "execution_count": 9,
   "id": "30ea3a6f",
   "metadata": {},
   "outputs": [
    {
     "name": "stdout",
     "output_type": "stream",
     "text": [
      "Welcome, \n",
      "Please enter your name. (no whitespaces)\n",
      "Philipp\n",
      "\n",
      "Please enter your surname.\n",
      "Huth\n",
      "\n",
      "Your name is \"Philipp Huth\"\n",
      "\n",
      "Please enter the company's name.\n",
      "Hilti\n",
      "\n",
      "The company is \"Hilti\"\n",
      "\n",
      "Do you want to greet the addressee with \"Greetings\" instead of \"Dear\"? (y/n)\n",
      "n\n",
      "\n",
      "Is the addressee a woman? (y/n)\n",
      "n\n",
      "\n",
      "Please enter their last name.\n",
      "Wang\n",
      "\n",
      "The salutation is \n",
      "\"Dear Mr. Wang, \"\n",
      "\n",
      "\n",
      "Did you not find the right contact person and do you want to be redirected to someone from HR?\n",
      "y\n",
      "\n",
      "The message will ask for you to be redirected to HR or external relations.\n"
     ]
    }
   ],
   "source": [
    "print('Welcome, \\nPlease enter your name. (no whitespaces)')\n",
    "sender_name = input()\n",
    "print('\\nPlease enter your surname.')\n",
    "sender_surname = input()\n",
    "print('\\nYour name is \\\"' + sender_name + ' ' + sender_surname + '\\\"')\n",
    "\n",
    "print('\\nPlease enter the company\\'s name.')\n",
    "company_name = input()\n",
    "print('\\nThe company is \\\"' + company_name + '\\\"')\n",
    "\n",
    "print('\\nDo you want to greet the addressee with \\\"Greetings\\\" instead of \\\"Dear\\\"? (y/n)')\n",
    "if 'y' in input(): \n",
    "    greeting = 'Greetings '\n",
    "else:\n",
    "    greeting = 'Dear '\n",
    "print('\\nIs the addressee a woman? (y/n)')\n",
    "if 'y' in input():\n",
    "    greeting += 'Ms. '\n",
    "else:\n",
    "    greeting += 'Mr. '\n",
    "print('\\nPlease enter their last name.')\n",
    "greeting += input()\n",
    "greeting += ', '\n",
    "print('\\nThe salutation is \\n\\\"' + greeting + '\\\"\\n')\n",
    "\n",
    "print('\\nDid you not find the right contact person and do you want to be redirected to someone from HR? (y/n)')\n",
    "not_from_hr = 'y' in input()\n",
    "if not_from_hr:\n",
    "    print('\\nThe message will ask for you to be redirected to HR or external relations.')\n",
    "else: \n",
    "    \n",
    "    print('\\nThe message will assume you write to HR or external relations.')"
   ]
  },
  {
   "cell_type": "code",
   "execution_count": 10,
   "id": "164348dc",
   "metadata": {},
   "outputs": [],
   "source": [
    "#greeting = ''\n",
    "#sender_name = ''\n",
    "#sender_surname = ''\n",
    "#company_name = ''\n",
    "#not_from_hr = ''\n",
    "\n",
    "dw.create_ln(greeting,sender_name,sender_surname,company_name,not_from_hr)"
   ]
  },
  {
   "cell_type": "code",
   "execution_count": null,
   "id": "70007222",
   "metadata": {},
   "outputs": [],
   "source": []
  }
 ],
 "metadata": {
  "kernelspec": {
   "display_name": "Python 3 (ipykernel)",
   "language": "python",
   "name": "python3"
  },
  "language_info": {
   "codemirror_mode": {
    "name": "ipython",
    "version": 3
   },
   "file_extension": ".py",
   "mimetype": "text/x-python",
   "name": "python",
   "nbconvert_exporter": "python",
   "pygments_lexer": "ipython3",
   "version": "3.9.12"
  }
 },
 "nbformat": 4,
 "nbformat_minor": 5
}
